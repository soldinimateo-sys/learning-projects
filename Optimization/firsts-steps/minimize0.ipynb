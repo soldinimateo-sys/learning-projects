{
 "cells": [
  {
   "cell_type": "markdown",
   "id": "4aaf89a4",
   "metadata": {},
   "source": [
    "# About\n",
    "I'm learning optimization methods in Python. \\\n",
    "This project is a practice exercise with a nonlinear programming model, using the `minimize` function from `scipy.optimize`. \\\n",
    "I'm going to use the **SLSQP (Sequential Least SQuares Programming)** method. \\\n",
    "It works well for nonlinear programming problems and can handle equality and inequality constraints, plus variables bounds."
   ]
  },
  {
   "cell_type": "markdown",
   "id": "64e8029f",
   "metadata": {},
   "source": [
    "# Model\n",
    "First of all, the objetive function we want to minimize. It is characterized for being nonlinear, and having 4 variables.\n",
    "$$\n",
    "\\min x_{1}x_{2}(x_{1}+x_{2}+x_{3})+x_3\n",
    "$$\n",
    "And there are the differents constraints of the model. We have bounds, equalitys and inequalitys.\n",
    "\n",
    "$$\n",
    "\\quad \\text{subject to} \\quad\n",
    "\\begin{cases}\n",
    "x_{1}x_{2}x_{3}x_{4} \\geq 25 \\\\\n",
    "x_{1}^2+x_{2}^2+x_{3}^2+x_{4}^2 = 40\\\\\n",
    "1 \\leq x_{1},x_{2},x_{3},x_{4} \\geq 5\n",
    "\\end{cases}\n",
    "$$"
   ]
  },
  {
   "cell_type": "markdown",
   "id": "10ddb2da",
   "metadata": {},
   "source": [
    "# Code\n",
    "Step zero: Libraries. \\\n",
    "`numpy` for arrays, `scipy.optimize` for optimize function."
   ]
  },
  {
   "cell_type": "code",
   "execution_count": 1,
   "id": "d927a50a",
   "metadata": {},
   "outputs": [],
   "source": [
    "import numpy as np\n",
    "from scipy.optimize import minimize"
   ]
  },
  {
   "cell_type": "markdown",
   "id": "b31e7db5",
   "metadata": {},
   "source": [
    "Then, we define the objective function like a normal function\n",
    "$$ \\\\ \n",
    "f(x) = x_{1}x_{2}(x_{1}+x_{2}+x_{3})+x_3 \n",
    "$$"
   ]
  },
  {
   "cell_type": "code",
   "execution_count": 2,
   "id": "59a78f38",
   "metadata": {},
   "outputs": [],
   "source": [
    "def objective(x):\n",
    "    return x[0]*x[3]*(x[0]+x[1]+x[2])+x[2]"
   ]
  },
  {
   "cell_type": "markdown",
   "id": "70d0b32d",
   "metadata": {},
   "source": [
    "And the constraints. \\\n",
    "Important: we have to rewrite the inequations and equations, comparing everything to zero. \n",
    "$$\n",
    "\\begin{cases}\n",
    "x_{1}x_{2}x_{3}x_{4} - 25 \\geq 0 \\\\\n",
    "x_{1}^2+x_{2}^2+x_{3}^2+x_{4}^2 - 40 = 0\n",
    "\\end{cases}\n",
    "$$\n"
   ]
  },
  {
   "cell_type": "code",
   "execution_count": 3,
   "id": "3edbcc8b",
   "metadata": {},
   "outputs": [],
   "source": [
    "def constraint1(x):\n",
    "    return x[0]*x[1]*x[2]*x[3] - 25\n",
    "\n",
    "def constraint2(x):\n",
    "    return x[0]**2 + x[1]**2 + x[2]**2 + x[3]**2 - 40\n",
    "\n",
    "con1 = {'type': 'ineq', 'fun': constraint1}\n",
    "con2 = {'type': 'eq', 'fun': constraint2}\n",
    "cons = [con1, con2]"
   ]
  },
  {
   "cell_type": "markdown",
   "id": "5a10edc2",
   "metadata": {},
   "source": [
    "This are the bounds. It´s the same for all variables.\n",
    "$$ \\\\\n",
    "1 \\leq x_{1},x_{2},x_{3},x_{4} \\geq 5\n",
    "$$"
   ]
  },
  {
   "cell_type": "code",
   "execution_count": 4,
   "id": "4dff4ed3",
   "metadata": {},
   "outputs": [],
   "source": [
    "b = (1.0, 5.0)\n",
    "bnds = (b, b, b, b)"
   ]
  },
  {
   "cell_type": "markdown",
   "id": "fb423606",
   "metadata": {},
   "source": [
    "The initial guess. \\\n",
    "This is crucial because it indicates where to start searching. `minimize` is a nonlinear optimization method, so it uses an iterative algorithm based on gradients. Depending on where you start, you may converge to a local or a global minimum.\n",
    "$$\n",
    "x_0 = (1, 5, 5, 1)\n",
    "$$"
   ]
  },
  {
   "cell_type": "code",
   "execution_count": 5,
   "id": "7c50fc48",
   "metadata": {},
   "outputs": [
    {
     "name": "stdout",
     "output_type": "stream",
     "text": [
      "16\n"
     ]
    }
   ],
   "source": [
    "x0 = [1,5,5,1]\n",
    "print(objective(x0))"
   ]
  },
  {
   "cell_type": "markdown",
   "id": "1f9ca8f1",
   "metadata": {},
   "source": [
    "Finally, we call the `minimize` function. "
   ]
  },
  {
   "cell_type": "code",
   "execution_count": 8,
   "id": "12ceb2c9",
   "metadata": {},
   "outputs": [
    {
     "data": {
      "text/plain": [
       " message: Optimization terminated successfully\n",
       " success: True\n",
       "  status: 0\n",
       "     fun: 17.01401724556073\n",
       "       x: [ 1.000e+00  4.743e+00  3.821e+00  1.379e+00]\n",
       "     nit: 5\n",
       "     jac: [ 1.457e+01  1.379e+00  2.379e+00  9.564e+00]\n",
       "    nfev: 25\n",
       "    njev: 5"
      ]
     },
     "execution_count": 8,
     "metadata": {},
     "output_type": "execute_result"
    }
   ],
   "source": [
    "sol = minimize(objective, x0, method='SLSQP', bounds=bnds, constraints=cons)\n",
    "sol"
   ]
  },
  {
   "cell_type": "markdown",
   "id": "89108abf",
   "metadata": {},
   "source": [
    "# Conclusion\n",
    "This example shows how to solve a nonlinear optimization problem  \n",
    "using the `SLSQP` method in `scipy.optimize.minimize`.  \n",
    "It gave me good initial practice with nonlinear programming and prepared me for more complex cases.\n"
   ]
  }
 ],
 "metadata": {
  "kernelspec": {
   "display_name": "Python 3",
   "language": "python",
   "name": "python3"
  },
  "language_info": {
   "codemirror_mode": {
    "name": "ipython",
    "version": 3
   },
   "file_extension": ".py",
   "mimetype": "text/x-python",
   "name": "python",
   "nbconvert_exporter": "python",
   "pygments_lexer": "ipython3",
   "version": "3.13.2"
  }
 },
 "nbformat": 4,
 "nbformat_minor": 5
}
